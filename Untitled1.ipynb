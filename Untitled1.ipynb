{
  "nbformat": 4,
  "nbformat_minor": 0,
  "metadata": {
    "colab": {
      "provenance": [],
      "authorship_tag": "ABX9TyMooRdmNqNUsMm7DRZwqYPg",
      "include_colab_link": true
    },
    "kernelspec": {
      "name": "python3",
      "display_name": "Python 3"
    },
    "language_info": {
      "name": "python"
    }
  },
  "cells": [
    {
      "cell_type": "markdown",
      "metadata": {
        "id": "view-in-github",
        "colab_type": "text"
      },
      "source": [
        "<a href=\"https://colab.research.google.com/github/sweetiepickle/B-i-t-p-w1/blob/main/Untitled1.ipynb\" target=\"_parent\"><img src=\"https://colab.research.google.com/assets/colab-badge.svg\" alt=\"Open In Colab\"/></a>"
      ]
    },
    {
      "cell_type": "code",
      "execution_count": null,
      "metadata": {
        "id": "pIieqXp2UjZs"
      },
      "outputs": [],
      "source": [
        "value1 = int (input ('nhập vào số thứ 1: '))\n",
        "value2 = int (input ('nhập vào số thứ 2: '))\n",
        "value1 + value2"
      ]
    },
    {
      "cell_type": "code",
      "source": [
        "with open ('text.txt', mode = 'w') as accounts:\n",
        "  accounts.write ('1999123 hihi 7.9 \\n')\n",
        "  accounts.write ('2000123 hehe 8.9 \\n')\n",
        "  accounts.write ('1997123 hihe 8.9 \\n')\n",
        "  accounts.write ('2001123 hehi 6.0 \\n')\n",
        "  accounts.write ('1995123 hahh 5.0 \\n')\n",
        "  accounts.write ('2013123 nahh 7.3 \\n')\n",
        "  accounts.write ('1987123 yoyo 8.7 \\n')\n",
        "  accounts.write ('2199123 yaya 7.5 \\n')\n",
        "  accounts.write ('1900123 yiyi 7.0 \\n')\n",
        "  accounts.write ('2080123 yeye 5.9 \\n')\n",
        "  accounts.write ('1985123 yuyu 6.9 \\n')\n",
        "  accounts.write ('2333123 zizi 9.9 \\n')\n",
        "  accounts.write ('1500123 yiya 8.0 \\n')\n",
        "  accounts.write ('2030123 huhu 4.9 \\n')\n",
        "  accounts.write ('1300123 yiyo 8.4 \\n')\n",
        "  accounts.write ('2033123 huhi 5.7 \\n')\n",
        "  accounts.write ('1508123 yuyi 8.3 \\n')\n",
        "  accounts.write ('2055123 mlem 8.1 \\n')\n",
        "  accounts.write ('1577123 aloo 7.6 \\n')\n",
        "  accounts.write ('2345123 oloo 8.8 \\n') "
      ],
      "metadata": {
        "id": "t08LPg0FVToQ"
      },
      "execution_count": null,
      "outputs": []
    },
    {
      "cell_type": "code",
      "source": [
        "with open ('text1.txt', mode ='w') as accounts:\n",
        "  print ('1999123 hihi 7.9 \\n')\n",
        "  print ('2000123 hehe 8.9 \\n')\n",
        "  print ('1997123 hihe 8.9 \\n')\n",
        "  print ('2001123 hehi 6.0 \\n')\n",
        "  print ('1995123 hahh 5.0 \\n')\n",
        "  print ('2013123 nahh 7.3 \\n')\n",
        "  print ('1987123 yoyo 8.7 \\n')\n",
        "  print ('2199123 yaya 7.5 \\n')\n",
        "  print ('1900123 yiyi 7.0 \\n')\n",
        "  print ('2080123 yeye 5.9 \\n')\n",
        "  print ('1985123 yuyu 6.9 \\n')\n",
        "  print ('2333123 zizi 9.9 \\n')\n",
        "  print ('1500123 yiya 8.0 \\n')\n",
        "  print ('2030123 huhu 4.9 \\n')\n",
        "  print ('1300123 yiyo 8.4 \\n')\n",
        "  print ('2033123 huhi 5.7 \\n')\n",
        "  print ('1508123 yuyi 8.3 \\n')\n",
        "  print ('2055123 mlem 8.1 \\n')\n",
        "  print ('1577123 aloo 7.6 \\n')\n",
        "  print ('2345123 oloo 8.8 \\n')"
      ],
      "metadata": {
        "id": "OPbK5ihnYD54"
      },
      "execution_count": null,
      "outputs": []
    },
    {
      "cell_type": "code",
      "source": [
        "with open ('text.txt', mode = 'r') as accounts:\n",
        "  print (f'{\"MSSV\":<10},{\"name\":<20},{\"score\":<4}')\n",
        "  for record in accounts:\n",
        "    MSSV, name, score = record.split ()\n",
        "    print (f'{\"MSSV\":<10},{\"name\":<20},{\"score\":<4}')"
      ],
      "metadata": {
        "id": "PgLHEvdGYzFn"
      },
      "execution_count": null,
      "outputs": []
    },
    {
      "cell_type": "code",
      "source": [
        "import pandas as pd\n",
        "url = 'data1.csv'\n",
        "dataframe = pd.read_csv( url )\n",
        "dataframe.set_index(dataframe['Name'])\n",
        "#dataframe.loc['aloo']"
      ],
      "metadata": {
        "id": "Ddjd2UWRhdPg"
      },
      "execution_count": null,
      "outputs": []
    },
    {
      "cell_type": "code",
      "source": [
        "import pandas as pd\n",
        "url = 'data1.csv'\n",
        "dataframe = pd.read_csv( url )\n",
        "dataframe[dataframe['Khoa']=='CKM'].head(10)"
      ],
      "metadata": {
        "id": "j5GD7s9bkBc_"
      },
      "execution_count": null,
      "outputs": []
    },
    {
      "cell_type": "code",
      "source": [
        "import pandas as pd\n",
        "url = 'data1.csv'\n",
        "dataframe = pd.read_csv( url )\n",
        "dataframe [(dataframe['Khoa']=='CKM') & (dataframe['course']==20)]"
      ],
      "metadata": {
        "id": "z91Xazxmlk1a"
      },
      "execution_count": null,
      "outputs": []
    },
    {
      "cell_type": "code",
      "source": [
        "import numpy as np\n",
        "import pandas as pd\n",
        "\n",
        "time = pd.date_range ('01/01/2023', period = 100000, freq = '30s')\n",
        "dataframe = pd.DataFrame (index = time)\n",
        "dataframe['Access amount'] = np.random.randint(1,10,100000)\n",
        "dataframe.resample('w').sum()"
      ],
      "metadata": {
        "id": "c-gZpIIAu9Rc"
      },
      "execution_count": null,
      "outputs": []
    },
    {
      "cell_type": "code",
      "source": [
        "import pandas as pd\n",
        "import numpy  as np\n",
        "\n",
        "url = 'http://winterolympicsmedals.com/medals.csv'\n",
        "data = pd.read_csv (url)\n",
        "\n",
        "time = pd.date_range ('01/01/2023', period = 100000, freq = '30s')\n",
        "dataframe = pd.DataFrame (index = time)\n",
        "dataframe['Access amount'] = np.random.randint(1,10,100000)\n",
        "dataframe.resample('w').sum()\n",
        "\n"
      ],
      "metadata": {
        "id": "dt1Vn3ucxa9b"
      },
      "execution_count": null,
      "outputs": []
    },
    {
      "cell_type": "code",
      "source": [
        "import pandas as pd\n",
        "url = 'data1.csv'\n",
        "dataframe = pd.read_csv( url )\n",
        "#dataframe.head ( 2 )   #hiển thị n dòng đầu của bảng data\n",
        "dataframe.shape         # trả lại số hàng số cột\n",
        "#dataframe.describe ()  # mô tả thông tin dữ liệu\n",
        "#dataframe.iloc [0:4]   # lọc từ hàng 1 đến hàng 5 file excel\n",
        "#dataframe.info ()      # the number of rows, columns, the total memory usage, the data type of each column, the number of non-NaN elements."
      ],
      "metadata": {
        "id": "Ju1HcDOcefdH",
        "colab": {
          "base_uri": "https://localhost:8080/"
        },
        "outputId": "d9d7a7af-c066-409b-ce1f-a77a40b51f0f"
      },
      "execution_count": null,
      "outputs": [
        {
          "output_type": "execute_result",
          "data": {
            "text/plain": [
              "(22, 1)"
            ]
          },
          "metadata": {},
          "execution_count": 37
        }
      ]
    },
    {
      "cell_type": "code",
      "source": [
        "import pandas as pd\n",
        "url = 'data1.csv'\n",
        "dataframe = pd.read_csv( url )\n",
        "frame = dataframe.set_index(dataframe['Name'])\n",
        "frame.loc ['aloo']\n",
        "dataframe['course'].max ()\n",
        "dataframe['course'].min ()\n",
        "dataframe['score'].mean () #avg\n",
        "dataframe['score'].sum ()\n",
        "dataframe['score'].count ()\n",
        "dataframe['course'].unique ()\n",
        "dataframe['course'].value_counts () # đếm có bao nhiêu hàng thuộc cột course\n",
        "dataframe.drop('Khoa', axist = 1).head(20) #xóa cả cột khoa\n",
        "dataframe.drop(['Khoa','course'], axist = 1).head(20) #xóa cả cột khoa và course   \n",
        "dataframe.drop(dataframe.columns[2:4], axist = 1).head(20) # xóa cột thứ 3 và 4\n",
        "dataframe(dataframe['course']!=19).head(20)\n",
        "dataframe(dataframe['Khoa']!='CKM').head(20)\n",
        "dataframe(dataframe.index != 4).head(20)\n",
        "dataframe.groupby('Khoa').head(20)# nhóm những dữ liệu giống nhau\n",
        "dataframe.groupby('Khoa').count()\n",
        "dataframe.groupby(['Khoa', 'course']).head(20)\n",
        "dataframe.groupby(['Khoa', 'course']).count()\n",
        "dataframe.groupby(['Khoa', 'course'])['điểm'].count()"
      ],
      "metadata": {
        "id": "Fm8oQn0-oiHE"
      },
      "execution_count": null,
      "outputs": []
    },
    {
      "cell_type": "code",
      "source": [
        "import pandas as pd \n",
        "import numpy  as np\n",
        "\n",
        "url = 'http://winterolympicsmedals.com/medals.csv'\n",
        "data = pd.read_csv (url)\n",
        "\n",
        "year = data.groupby(['Year']).count()     # nhóm những năm giống nhau lại và đếm\n",
        "city = data['City'].unique() \n",
        "cacnam = data['Year'].unique()            # đếm những năm khác nhau, bỏ các năm khác nhau\n",
        "sonam = year.shape[0]\n",
        "recently = data.tail (486)                #the last row = 2312 - 1827 + 1 \n",
        "\n",
        "#print (recently)\n",
        "\n",
        "nedy = data.loc[data.NOC == 'NED']\n",
        "cacnamnedthamdu = nedy['Year'].unique ()\n",
        "sonamnedthamdu = cacnamnedthamdu.shape [0]\n",
        "\n",
        "\n",
        "gold = nedy.loc[nedy.Medal == 'Gold']\n",
        "amountg = gold.shape [0]\n",
        "\n",
        "silver = nedy.loc[nedy.Medal == 'Silver']\n",
        "amounts = silver.shape [0] \n",
        "\n",
        "bronze = nedy.loc[nedy.Medal == 'Bronze']\n",
        "amountb = bronze.shape [0] \n",
        "\n",
        "# 2002 - 2006\n",
        "\n",
        "nedy4 = recently.loc[recently.NOC == 'NED']\n",
        "\n",
        "gold4 = nedy4.loc[nedy4.Medal == 'Gold']\n",
        "amountg4 = gold4.shape [0]\n",
        "\n",
        "silver4 = nedy4.loc[nedy4.Medal == 'Silver']\n",
        "amounts4 = silver4.shape [0]\n",
        "\n",
        "bronze4 = nedy4.loc[nedy4.Medal == 'Bronze']\n",
        "amountb4 = bronze4.shape [0]\n",
        "\n",
        "sport = nedy4['Sport'].unique ()\n",
        "\n",
        "# hiển thị\n",
        "\n",
        "print ('Số lần diễn ra Olympics mùa đông: ', sonam)\n",
        "print ('\\nCác năm diễn ra Oympics mùa đông: ', cacnam)\n",
        "print ('\\nCác thành phố đăng cai Olympics mùa đông: ', city )\n",
        "print ('\\nQuốc gia chọn để báo cáo thống kê: Hà Lan - Netherlands')\n",
        "print ('\\nSố năm Hà Lan tham dự Olympics mùa đông: ', sonamnedthamdu)\n",
        "print ('\\nCác năm Hà Lan tham dự Olympics mùa đông: ', cacnamnedthamdu)\n",
        "print ('\\nTổng số huy chương vàng của Hà Lan qua các năm: ', amountg)\n",
        "print ('\\nTổng số huy chương bạc của Hà Lan qua các năm: ', amounts)\n",
        "print ('\\nTổng số huy chương đồng của Hà Lan qua các năm: ', amountb )\n",
        "print ('\\nTừ năm 2004 đến năm 2008, Hà Lan đã giành tổng cộng: \\n' )\n",
        "print (amountg4 , ' huy chương vàng \\n' )\n",
        "print (amounts4 , 'huy chương bạc\\n' )\n",
        "print (amountb4 , 'huy chương đồng\\n' )\n",
        "print ('\\nTrong khoảng thời gian đó, Hà Lan đẫ tham gia những môn: ' , sport )\n",
        "#print ('\\n', nedy4)"
      ],
      "metadata": {
        "id": "zWqibAo7nuWx",
        "colab": {
          "base_uri": "https://localhost:8080/"
        },
        "outputId": "0bd920bd-df23-45b5-85d6-7917bdfa7e1f"
      },
      "execution_count": 50,
      "outputs": [
        {
          "output_type": "stream",
          "name": "stdout",
          "text": [
            "Số lần diễn ra Olympics mùa đông:  20\n",
            "\n",
            "Các năm diễn ra Oympics mùa đông:  [1924 1928 1932 1936 1948 1952 1956 1960 1964 1968 1972 1976 1980 1984\n",
            " 1988 1992 1994 1998 2002 2006]\n",
            "\n",
            "Các thành phố đăng cai Olympics mùa đông:  ['Chamonix' 'St. Moritz' 'Lake Placid' 'Garmisch-Partenkirchen' 'Oslo'\n",
            " \"Cortina d'Ampezzo\" 'Squaw Valley' 'Innsbruck' 'Grenoble' 'Sapporo'\n",
            " 'Sarajevo' 'Calgary' 'Albertville' 'Lillehammer' 'Nagano'\n",
            " 'Salt Lake City' 'Turin']\n",
            "\n",
            "Quốc gia chọn để báo cáo thống kê: Hà Lan - Netherlands\n",
            "\n",
            "Số năm Hà Lan tham dự Olympics mùa đông:  13\n",
            "\n",
            "Các năm Hà Lan tham dự Olympics mùa đông:  [1952 1960 1964 1968 1972 1976 1980 1988 1992 1994 1998 2002 2006]\n",
            "\n",
            "Tổng số huy chương vàng của Hà Lan qua các năm:  25\n",
            "\n",
            "Tổng số huy chương bạc của Hà Lan qua các năm:  30\n",
            "\n",
            "Tổng số huy chương đồng của Hà Lan qua các năm:  23\n",
            "\n",
            "Từ năm 2004 đến năm 2008, Hà Lan đã giành tổng cộng: \n",
            "\n",
            "6  huy chương vàng \n",
            "\n",
            "7 huy chương bạc\n",
            "\n",
            "4 huy chương đồng\n",
            "\n",
            "\n",
            "Trong khoảng thời gian đó, Hà Lan đẫ tham gia những môn:  ['Skating']\n"
          ]
        }
      ]
    }
  ]
}